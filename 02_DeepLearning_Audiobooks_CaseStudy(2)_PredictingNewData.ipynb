{
 "cells": [
  {
   "cell_type": "markdown",
   "metadata": {},
   "source": [
    "# Deep Learning Case Study: Audiobooks \n",
    "## Part 2 : Predicting on new data\n",
    "#### by Sooyeon Won \n",
    "\n",
    "### Keywords \n",
    "- Deep Learning \n",
    "- TensorFlow2 - Keras\n",
    "- Unbalanced Data\n",
    "- Classification Problem\n",
    "\n",
    "\n",
    "### Contents \n",
    "\n",
    "<ul>    \n",
    "    ------------- Part1 -------------\n",
    "<li><a href=\"#Introduction\">1.  Introduction</a></li>\n",
    "<li><a href=\"#Preprocessing\">2.  Data Preprocessing</a></li>\n",
    "<li><a href=\"#Analysis\">3.  Data Analysis</a></li>\n",
    "<li><a href=\"#Test\">4.  Test the Model</a></li>\n",
    "    ------------- Part2 -------------\n",
    "<li><a href=\"#Prediction\">5.  Predicting on new Data</a></li>\n",
    "</ul>\n",
    "\n"
   ]
  },
  {
   "cell_type": "code",
   "execution_count": 1,
   "metadata": {},
   "outputs": [],
   "source": [
    "# Import the relevant libraries\n",
    "import numpy as np\n",
    "import tensorflow as tf\n",
    "import pickle"
   ]
  },
  {
   "cell_type": "markdown",
   "metadata": {},
   "source": [
    "### 5. 1. Load the Scaler and the Model from Part 1"
   ]
  },
  {
   "cell_type": "code",
   "execution_count": 2,
   "metadata": {
    "scrolled": true
   },
   "outputs": [],
   "source": [
    "# Load the scaler from Part 1, using 'pickle' method \n",
    "scaler_deep_learning = pickle.load(open('scaler_deep_learning.pickle', 'rb'))\n",
    "\n",
    "# Load the model from Part 1, using the TensorFlow (Keras) function relevant for the operation\n",
    "model = tf.keras.models.load_model('audiobooks_model.h5')"
   ]
  },
  {
   "cell_type": "markdown",
   "metadata": {},
   "source": [
    "> Note that a warning message will pop up, since I did not specify the input shape of my inputs in the modeling part. For feed-forward neural networks this is not an issue."
   ]
  },
  {
   "cell_type": "markdown",
   "metadata": {},
   "source": [
    "### 5. 2. Load the new data"
   ]
  },
  {
   "cell_type": "code",
   "execution_count": 3,
   "metadata": {},
   "outputs": [],
   "source": [
    "# Load the new data\n",
    "raw_data = np.loadtxt('New_Audiobooks_Data.csv',delimiter=',')\n",
    "\n",
    "# As before, I used all variables as inputs except for the first column (Customer ID)\n",
    "new_data_inputs = raw_data[:,1:] # There is no target in the new data"
   ]
  },
  {
   "cell_type": "markdown",
   "metadata": {},
   "source": [
    "### 5. 3. Predict the probability of a customer to convert"
   ]
  },
  {
   "cell_type": "code",
   "execution_count": 4,
   "metadata": {},
   "outputs": [],
   "source": [
    "# Scale the new data in the same way I scaled the train data\n",
    "new_data_inputs_scaled = scaler_deep_learning.transform(new_data_inputs)"
   ]
  },
  {
   "cell_type": "code",
   "execution_count": 5,
   "metadata": {},
   "outputs": [
    {
     "data": {
      "text/plain": [
       "array([0.  , 0.  , 0.05, 1.  , 0.  , 0.04, 0.04, 0.1 , 0.03, 0.74, 0.  ,\n",
       "       0.63, 0.79, 0.  , 0.08, 0.12, 0.79, 0.65, 0.75, 0.97, 1.  , 1.  ,\n",
       "       1.  , 0.  , 0.  , 0.99, 0.27, 0.  , 1.  , 1.  ], dtype=float32)"
      ]
     },
     "execution_count": 5,
     "metadata": {},
     "output_type": "execute_result"
    }
   ],
   "source": [
    "# Predict the probability of each customer to convert\n",
    "model.predict(new_data_inputs_scaled)[:,1].round(2) # rounded to 2 digits after the dot"
   ]
  },
  {
   "cell_type": "code",
   "execution_count": 6,
   "metadata": {},
   "outputs": [
    {
     "data": {
      "text/plain": [
       "array([0, 0, 0, 1, 0, 0, 0, 0, 0, 1, 0, 1, 1, 0, 0, 0, 1, 1, 1, 1, 1, 1,\n",
       "       1, 0, 0, 1, 0, 0, 1, 1], dtype=int64)"
      ]
     },
     "execution_count": 6,
     "metadata": {},
     "output_type": "execute_result"
    }
   ],
   "source": [
    "# Implement the better approach which is independent of the number of classes\n",
    "np.argmax(model.predict(new_data_inputs_scaled),1)"
   ]
  }
 ],
 "metadata": {
  "kernelspec": {
   "display_name": "Python [conda env:py3-TF2.0]",
   "language": "python",
   "name": "conda-env-py3-TF2.0-py"
  },
  "language_info": {
   "codemirror_mode": {
    "name": "ipython",
    "version": 3
   },
   "file_extension": ".py",
   "mimetype": "text/x-python",
   "name": "python",
   "nbconvert_exporter": "python",
   "pygments_lexer": "ipython3",
   "version": "3.8.5"
  }
 },
 "nbformat": 4,
 "nbformat_minor": 2
}
