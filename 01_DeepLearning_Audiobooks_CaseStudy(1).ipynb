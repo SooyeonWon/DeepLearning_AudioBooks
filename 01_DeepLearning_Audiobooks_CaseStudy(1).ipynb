{
 "cells": [
  {
   "cell_type": "markdown",
   "metadata": {},
   "source": [
    "# Deep Learning Case Study: Audiobooks \n",
    "#### by Sooyeon Won \n",
    "\n",
    "\n",
    "### Keywords \n",
    "- Deep Learning \n",
    "- TensorFlow2 - Keras\n",
    "- Unbalanced Data\n",
    "- Classification Problem\n",
    "\n",
    "\n",
    "\n",
    "### Contents \n",
    "\n",
    "<ul>    \n",
    "    ------------- Part1 -------------\n",
    "<li><a href=\"#Introduction\">1.  Introduction</a></li>\n",
    "<li><a href=\"#Preprocessing\">2.  Data Preprocessing</a></li>\n",
    "<li><a href=\"#Analysis\">3.  Data Analysis</a></li>\n",
    "<li><a href=\"#Test\">4.  Test the Model</a></li>\n",
    "    ------------- Part2 -------------\n",
    "<li><a href=\"#Prediction\">5.  Predicting on new Data</a></li>\n",
    "</ul>\n",
    "\n"
   ]
  },
  {
   "cell_type": "markdown",
   "metadata": {},
   "source": [
    "<a id='Introduction'></a>\n",
    "### 1. Introduction: Business Problem"
   ]
  },
  {
   "cell_type": "markdown",
   "metadata": {},
   "source": [
    " For this analysis, data from an Audiobook App are provided. Note that it relates to the audio versions of books ONLY. Each customer in the database has made a purchase at least once. Based on the available data, I created a machine learning (ML) algorithm that can predict whether customers will re-purchase products from the Audiobook company. <br><br>\n",
    "From the company's perspective, if a customer has a low probability of re-purchasing, the company can reduce costs on advertising to the customer, so that the company can focus its efforts only on the customers who are likely to convert again. In addition, the ML model can identify the most important metrics for a customer who come back again. Identifying new customers creates value and growth opportunities. <br><br>\n",
    "The given dataset contains following information. \n",
    ">- **Customer ID**\n",
    ">- **Book length overall**: Sum of the minute length of all purchases\n",
    ">- **Book length avg**: Average length in minutes of all purchases\n",
    ">- **Price paid_overall**: Total price of all purchases  \n",
    ">- **Price Paid avg**: Average paid price of all purchases\n",
    ">- **Review**: A binary variable whether the customer left a review\n",
    ">- **Review out of 10**: A review score that the customer left  \n",
    ">- **Total minutes listened**: Total minutes of time is a measure of engagement.\n",
    ">- **Completion**: The percentage of completion of the audiobook. \"Total minutes listened\" is divided by \"Book length overall\". It is ranged from 0 to 1.\n",
    ">- **Support requests**: Total number of support requests such as forgotten password, assistance for using the App, and so on.\n",
    ">- **Last visited - purchase date**: It is also a measure of engagement. The bigger the difference, the gibber the engagement (in days).\n",
    "\n",
    "In this analysis, I used all the features as the inputs, except for **Customer ID**, since it is completely arbitrary. \n",
    "The targets are a binary variable, indicating 0 or 1. I took a period of 2 years in the inputs, and the next 6 months as targets. \n",
    "\n",
    "So, basically, I predict whether a customer will convert in the next 6 months. based on the last 2 years of purchasing patterns and individual engagement. 6 months could be debatable, but it is also reasonable. If customers do not convert after 6 months, chances are they've gone to a competitor or didn't like the Audiobooks way of digesting information.  \n",
    "\n",
    "My solution approach is to create a a machine learning algorithm, which is able to predict whether a customer will buy again. This is a classic classification problem with two classes: will not purchase and will purchase, represented by 0s and 1s, respectively. \n",
    "\n"
   ]
  },
  {
   "cell_type": "markdown",
   "metadata": {},
   "source": [
    "<a id='Preprocessing'></a>\n",
    "## 2. Data Preprocessing\n",
    "&nbsp; 2. 1. Extract the data from the csv <br>\n",
    "&nbsp; 2. 2. Balance the dataset <br>\n",
    "&nbsp; 2. 3. Standardize the inputs <br>\n",
    "&nbsp; 2. 4. Shuffle the data <br>\n",
    "&nbsp; 2. 5. Split the dataset into train, validation, and test <br>\n",
    "&nbsp; 2. 6. Save the three datasets in a tensor friendly format"
   ]
  },
  {
   "cell_type": "markdown",
   "metadata": {},
   "source": [
    "### 2. 1. Extract the data from the csv"
   ]
  },
  {
   "cell_type": "code",
   "execution_count": 1,
   "metadata": {},
   "outputs": [],
   "source": [
    "# Import the relevant libraries \n",
    "import numpy as np\n",
    "from sklearn.preprocessing import StandardScaler# for easier data standardization "
   ]
  },
  {
   "cell_type": "code",
   "execution_count": 2,
   "metadata": {},
   "outputs": [],
   "source": [
    "# Load the data\n",
    "raw_csv_data = np.loadtxt('Audiobooks_data.csv',delimiter=',')\n",
    "\n",
    "# Specfiy inputs and target\n",
    "# Inputs - expect for the the arbitrary customer IDs in the first column, and the target\n",
    "unscaled_inputs_all = raw_csv_data[:,1:-1]\n",
    "# Target - the last column\n",
    "targets_all = raw_csv_data[:,-1]"
   ]
  },
  {
   "cell_type": "markdown",
   "metadata": {},
   "source": [
    "### 2. 2. Balance the dataset"
   ]
  },
  {
   "cell_type": "code",
   "execution_count": 3,
   "metadata": {},
   "outputs": [
    {
     "name": "stdout",
     "output_type": "stream",
     "text": [
      "The number of target 1s:  2237\n",
      "The number of target 0s:  11847\n",
      "Total targets:  14084\n"
     ]
    }
   ],
   "source": [
    "# Target distribution \n",
    "num_one_targets = int(np.sum(targets_all))\n",
    "print('The number of target 1s: ', num_one_targets)\n",
    "print('The number of target 0s: ', len(targets_all) - num_one_targets)\n",
    "print('Total targets: ', len(targets_all))"
   ]
  },
  {
   "cell_type": "code",
   "execution_count": 4,
   "metadata": {},
   "outputs": [],
   "source": [
    "zero_targets_counter = 0\n",
    "indices_to_remove = []\n",
    "\n",
    "for i in range(targets_all.shape[0]):\n",
    "    if targets_all[i] == 0:\n",
    "        zero_targets_counter += 1\n",
    "        if zero_targets_counter > num_one_targets:\n",
    "            indices_to_remove.append(i)"
   ]
  },
  {
   "cell_type": "code",
   "execution_count": 5,
   "metadata": {},
   "outputs": [],
   "source": [
    "# Delete the marked indices marked from the for loop\n",
    "unscaled_inputs_equal_priors = np.delete(unscaled_inputs_all, indices_to_remove, axis=0)\n",
    "targets_equal_priors = np.delete(targets_all, indices_to_remove, axis=0)"
   ]
  },
  {
   "cell_type": "markdown",
   "metadata": {},
   "source": [
    "> **Comment**: First, I count how many targets are 1s, indicating that the number of customers who converted. I set a counter for targets that are 0, meaning that the customer did not convert. To create a \"balanced\" dataset, I simply remove some datapoints from the major class, as the lecturer recommended. Note that there are various ways to deal with imbalanced data. For example I took a SMOTE technique in my previous [Starbucks Capstone Project](https://github.com/SooyeonWon/ML_starbucks_capstone_projects). \n",
    "<br><br>\n",
    "To balance the data, I declare a variable that will count the number of target: 0s. Once the 2 classes are balanced, mark entries where the target is 0. Then I created two variables, containing the inputs, and the targets.I delete all indices marked as \"to remove\" in the loop above."
   ]
  },
  {
   "cell_type": "markdown",
   "metadata": {},
   "source": [
    "### 2. 3. Standardize the inputs\n",
    "> To standarize the inputs means to fit and transform the original data, and this process increases the accuracy of algorithm. Essentially, I calculate and STORE the mean and variance of the data in the scaler object. At the same time I standrdize the data using this information. Note that the mean and variance remain recorded in the scaler object"
   ]
  },
  {
   "cell_type": "code",
   "execution_count": 6,
   "metadata": {},
   "outputs": [],
   "source": [
    "# Crete a standar scaler object\n",
    "scaler_deep_learning = StandardScaler()\n",
    "scaled_inputs = scaler_deep_learning.fit_transform(unscaled_inputs_equal_priors)"
   ]
  },
  {
   "cell_type": "markdown",
   "metadata": {},
   "source": [
    "### 2. 4. Shuffle the data\n",
    "> The collected data is arranged by date. Since I will batch later, I must shuffle the data, so that I can keep the same information but in a random order. Otherwise the data is homogenous inside a batch. On the other hand, between the batches, the batches are heterogenous. So, I used the shuffled indices to shuffle the inputs and targets."
   ]
  },
  {
   "cell_type": "code",
   "execution_count": 7,
   "metadata": {},
   "outputs": [],
   "source": [
    "# Shuffle the indices \n",
    "shuffled_indices = np.arange(scaled_inputs.shape[0])\n",
    "np.random.shuffle(shuffled_indices)"
   ]
  },
  {
   "cell_type": "code",
   "execution_count": 8,
   "metadata": {},
   "outputs": [],
   "source": [
    "# Shuffle the inputs and target\n",
    "shuffled_inputs = scaled_inputs[shuffled_indices]\n",
    "shuffled_targets = targets_equal_priors[shuffled_indices]"
   ]
  },
  {
   "cell_type": "markdown",
   "metadata": {},
   "source": [
    "### 2. 5. Split the dataset into train, validation, and test\n",
    "> In this analysis, I split the data into 80-10-10 distribution of training, validation, and test."
   ]
  },
  {
   "cell_type": "code",
   "execution_count": 9,
   "metadata": {},
   "outputs": [],
   "source": [
    "# Count the total number of samples\n",
    "samples_count = shuffled_inputs.shape[0]\n",
    "\n",
    "# 80% of the whole data are assigned to training dataset \n",
    "train_samples_count = int(0.8 * samples_count)\n",
    "\n",
    "# 10% of the whole data are assigned to validation dataset \n",
    "validation_samples_count = int(0.1 * samples_count)\n",
    "\n",
    "# Finally, test' dataset contains all remaining data.\n",
    "test_samples_count = samples_count - train_samples_count - validation_samples_count"
   ]
  },
  {
   "cell_type": "code",
   "execution_count": 10,
   "metadata": {},
   "outputs": [],
   "source": [
    "# Create variables that record the inputs and targets for training. \n",
    "train_inputs = shuffled_inputs[:train_samples_count]\n",
    "train_targets = shuffled_targets[:train_samples_count]\n",
    "\n",
    "# Create variables that record the inputs and targets for validation.\n",
    "validation_inputs = shuffled_inputs[train_samples_count:train_samples_count+validation_samples_count]\n",
    "validation_targets = shuffled_targets[train_samples_count:train_samples_count+validation_samples_count]\n",
    "\n",
    "# Create variables that record the inputs and targets for test. \n",
    "test_inputs = shuffled_inputs[train_samples_count+validation_samples_count:]\n",
    "test_targets = shuffled_targets[train_samples_count+validation_samples_count:]"
   ]
  },
  {
   "cell_type": "markdown",
   "metadata": {},
   "source": [
    "> So far I have balanced the dataset to be 50-50 (for targets 0 and 1), but the training, validation, and test were taken from a shuffled dataset. So it should be also checed if the splited sets are also balanced. Note that whenever I rerun the code, I get unequal values, since they are randomly shuffled. "
   ]
  },
  {
   "cell_type": "code",
   "execution_count": 11,
   "metadata": {},
   "outputs": [
    {
     "name": "stdout",
     "output_type": "stream",
     "text": [
      "Training set: Target=1: 1807  / Total # targets: 3579  / Percentage: 0.505\n",
      "Validation set: Target=1: 211  / Total # targets: 447  / Percentage: 0.472\n",
      "Test set: Target=1: 219  / Total # targets: 448  / Percentage: 0.489\n"
     ]
    }
   ],
   "source": [
    "# Print the number of targets that are 1s, the total number of samples, and the proportion for each splited dataset.\n",
    "print('Training set: Target=1:', int(np.sum(train_targets)), ' / Total # targets:', int(train_samples_count), ' / Percentage:', np.round(np.sum(train_targets) / train_samples_count,3))\n",
    "print('Validation set: Target=1:', int(np.sum(validation_targets)), ' / Total # targets:', int(validation_samples_count),' / Percentage:',  np.round(np.sum(validation_targets) / validation_samples_count,3))\n",
    "print('Test set: Target=1:', int(np.sum(test_targets)), ' / Total # targets:', int(test_samples_count), ' / Percentage:',  np.round(np.sum(test_targets) / test_samples_count,3))"
   ]
  },
  {
   "cell_type": "markdown",
   "metadata": {},
   "source": [
    "### 2. 6. Save the three datasets in *.npz & Scaler"
   ]
  },
  {
   "cell_type": "code",
   "execution_count": 12,
   "metadata": {},
   "outputs": [],
   "source": [
    "# Save the three datasets in *.npz.\n",
    "np.savez('Audiobooks_data_train', inputs=train_inputs, targets=train_targets)\n",
    "np.savez('Audiobooks_data_validation', inputs=validation_inputs, targets=validation_targets)\n",
    "np.savez('Audiobooks_data_test', inputs=test_inputs, targets=test_targets)"
   ]
  },
  {
   "cell_type": "code",
   "execution_count": 13,
   "metadata": {},
   "outputs": [],
   "source": [
    "### Save the scaler\n",
    "import pickle\n",
    "pickle.dump(scaler_deep_learning, open('scaler_deep_learning.pickle', 'wb'))"
   ]
  },
  {
   "cell_type": "markdown",
   "metadata": {},
   "source": [
    "<a id='Analysis'></a>\n",
    "## 3. Data Analysis \n",
    "&nbsp; 3. 1. Data <br>\n",
    "&nbsp; 3. 2. Model <br>"
   ]
  },
  {
   "cell_type": "code",
   "execution_count": 14,
   "metadata": {},
   "outputs": [],
   "source": [
    "# Import the relevant libraries to create \n",
    "import tensorflow as tf"
   ]
  },
  {
   "cell_type": "markdown",
   "metadata": {},
   "source": [
    "### 3. 1. Data"
   ]
  },
  {
   "cell_type": "code",
   "execution_count": 15,
   "metadata": {},
   "outputs": [],
   "source": [
    "# Load the training set \n",
    "npz_train = np.load('Audiobooks_data_train.npz')\n",
    "# Training Inputs & Targets\n",
    "# Note that targets must be integer, because of sparse_categorical_crossentropy \n",
    "train_inputs, train_targets = npz_train['inputs'].astype(np.float), npz_train['targets'].astype(np.int)"
   ]
  },
  {
   "cell_type": "code",
   "execution_count": 16,
   "metadata": {},
   "outputs": [],
   "source": [
    "# Load the validation set \n",
    "npz_valid = np.load('Audiobooks_data_validation.npz')\n",
    "# Inputs & Targets in the validatin set\n",
    "validation_inputs, validation_targets = npz_valid['inputs'].astype(np.float), npz_valid['targets'].astype(np.int)"
   ]
  },
  {
   "cell_type": "code",
   "execution_count": 17,
   "metadata": {},
   "outputs": [],
   "source": [
    "# Load the test dataset\n",
    "npz_test = np.load('Audiobooks_data_test.npz')\n",
    "# # Inputs & Targets in the test set\n",
    "test_inputs, test_targets = npz_test['inputs'].astype(np.float), npz_test['targets'].astype(np.int)"
   ]
  },
  {
   "cell_type": "markdown",
   "metadata": {},
   "source": [
    "### 3. 2. Model\n",
    "#### Outline"
   ]
  },
  {
   "cell_type": "code",
   "execution_count": 18,
   "metadata": {},
   "outputs": [],
   "source": [
    "# Set the input and output sizes\n",
    "input_size = 10\n",
    "output_size = 2\n",
    "# Set the same hidden layer size for both hidden layers\n",
    "hidden_layer_size = 50"
   ]
  },
  {
   "cell_type": "markdown",
   "metadata": {},
   "source": [
    "> Since there are 10 predictors in csv, and the target with 2 classes in the provided dataset. These decided the size of inputs and outputs. 50 Hidden units provide enough complexity. I did not put too many units at the begining for better speed."
   ]
  },
  {
   "cell_type": "code",
   "execution_count": 19,
   "metadata": {},
   "outputs": [],
   "source": [
    "# Define the model \n",
    "model_audiobook = tf.keras.Sequential([\n",
    "                            # 1st hidden layer \n",
    "                            tf.keras.layers.Dense(hidden_layer_size, activation='relu'), \n",
    "                            # 2nd hidden layer\n",
    "                            tf.keras.layers.Dense(hidden_layer_size, activation='relu'), \n",
    "                            # Output layer with softmax function\n",
    "                            tf.keras.layers.Dense(output_size, activation='softmax') # output layer\n",
    "                            ])"
   ]
  },
  {
   "cell_type": "markdown",
   "metadata": {},
   "source": [
    "> Since the data is already preprocessed, it is not necessary to include input layer. "
   ]
  },
  {
   "cell_type": "markdown",
   "metadata": {},
   "source": [
    "#### Optimizer and Loss function"
   ]
  },
  {
   "cell_type": "code",
   "execution_count": 20,
   "metadata": {},
   "outputs": [],
   "source": [
    "model_audiobook.compile(optimizer='adam', loss='sparse_categorical_crossentropy', metrics=['accuracy'])"
   ]
  },
  {
   "cell_type": "markdown",
   "metadata": {},
   "source": [
    "> I defined the optimizer: 'adam', the loss function 'Sparse Categorical Cross-Entropy' and the metrics, obtaining at each iteration.\n"
   ]
  },
  {
   "cell_type": "markdown",
   "metadata": {},
   "source": [
    "#### Early Stopping Mechanism"
   ]
  },
  {
   "cell_type": "code",
   "execution_count": 21,
   "metadata": {},
   "outputs": [],
   "source": [
    "# I set patience=2, to be a bit tolerant against random validation loss increases\n",
    "early_stopping = tf.keras.callbacks.EarlyStopping(patience=2)"
   ]
  },
  {
   "cell_type": "markdown",
   "metadata": {},
   "source": [
    "#### Training the Model"
   ]
  },
  {
   "cell_type": "code",
   "execution_count": 22,
   "metadata": {},
   "outputs": [],
   "source": [
    "# Set the batch size\n",
    "batch_size = 100\n",
    "\n",
    "# Set a maximum number of training epochs\n",
    "max_epochs = 100"
   ]
  },
  {
   "cell_type": "code",
   "execution_count": 23,
   "metadata": {},
   "outputs": [
    {
     "name": "stdout",
     "output_type": "stream",
     "text": [
      "Epoch 1/100\n",
      "36/36 - 0s - loss: 0.6184 - accuracy: 0.6373 - val_loss: 0.5333 - val_accuracy: 0.7271\n",
      "Epoch 2/100\n",
      "36/36 - 0s - loss: 0.4786 - accuracy: 0.7617 - val_loss: 0.4425 - val_accuracy: 0.7673\n",
      "Epoch 3/100\n",
      "36/36 - 0s - loss: 0.4144 - accuracy: 0.7877 - val_loss: 0.4105 - val_accuracy: 0.7763\n",
      "Epoch 4/100\n",
      "36/36 - 0s - loss: 0.3836 - accuracy: 0.7988 - val_loss: 0.3931 - val_accuracy: 0.7785\n",
      "Epoch 5/100\n",
      "36/36 - 0s - loss: 0.3672 - accuracy: 0.8041 - val_loss: 0.3846 - val_accuracy: 0.7830\n",
      "Epoch 6/100\n",
      "36/36 - 0s - loss: 0.3574 - accuracy: 0.8103 - val_loss: 0.3793 - val_accuracy: 0.7785\n",
      "Epoch 7/100\n",
      "36/36 - 0s - loss: 0.3521 - accuracy: 0.8100 - val_loss: 0.3763 - val_accuracy: 0.7919\n",
      "Epoch 8/100\n",
      "36/36 - 0s - loss: 0.3450 - accuracy: 0.8114 - val_loss: 0.3807 - val_accuracy: 0.7852\n",
      "Epoch 9/100\n",
      "36/36 - 0s - loss: 0.3404 - accuracy: 0.8173 - val_loss: 0.3743 - val_accuracy: 0.7740\n",
      "Epoch 10/100\n",
      "36/36 - 0s - loss: 0.3374 - accuracy: 0.8173 - val_loss: 0.3783 - val_accuracy: 0.7875\n",
      "Epoch 11/100\n",
      "36/36 - 0s - loss: 0.3342 - accuracy: 0.8178 - val_loss: 0.3661 - val_accuracy: 0.7942\n",
      "Epoch 12/100\n",
      "36/36 - 0s - loss: 0.3282 - accuracy: 0.8254 - val_loss: 0.3688 - val_accuracy: 0.8009\n",
      "Epoch 13/100\n",
      "36/36 - 0s - loss: 0.3302 - accuracy: 0.8223 - val_loss: 0.3748 - val_accuracy: 0.7919\n"
     ]
    },
    {
     "data": {
      "text/plain": [
       "<tensorflow.python.keras.callbacks.History at 0x1ada8206d30>"
      ]
     },
     "execution_count": 23,
     "metadata": {},
     "output_type": "execute_result"
    }
   ],
   "source": [
    "# Note that the train, validation and test data are not iterable in this time\n",
    "model_audiobook.fit(train_inputs,                                            # 1. train inputs\n",
    "                    train_targets,                                           # 2. train targets\n",
    "                    batch_size=batch_size,                                   # 3. batch size\n",
    "                    epochs=max_epochs,                                       # 4. epochs that I train for \n",
    "                    callbacks=[early_stopping],                              # 5. early stopping\n",
    "                    validation_data=(validation_inputs, validation_targets), # 6. validation data\n",
    "                    verbose = 2)  "
   ]
  },
  {
   "cell_type": "markdown",
   "metadata": {},
   "source": [
    "> 'callbacks' is the function called by a task when a task is completed. The task here is to check whether val_loss is increasing. After 12 epochs of training, I have reached a validation accuracy of ca. 82%. Since I set an early stopping mechanism, the training didnt go through for all epochs. "
   ]
  },
  {
   "cell_type": "markdown",
   "metadata": {},
   "source": [
    "<a id='Test'></a>\n",
    "## 4. Test the Model\n",
    "> After fitting on the training data and validating on the validation data, I tested the final prediction power of the model by running it on the test dataset which the algorithm has NEVER used before."
   ]
  },
  {
   "cell_type": "code",
   "execution_count": 24,
   "metadata": {},
   "outputs": [
    {
     "name": "stdout",
     "output_type": "stream",
     "text": [
      "14/14 [==============================] - 0s 857us/step - loss: 0.3475 - accuracy: 0.8237\n"
     ]
    }
   ],
   "source": [
    "test_loss, test_accuracy = model_audiobook.evaluate(test_inputs, test_targets)"
   ]
  },
  {
   "cell_type": "code",
   "execution_count": 25,
   "metadata": {},
   "outputs": [
    {
     "name": "stdout",
     "output_type": "stream",
     "text": [
      "\n",
      "Test loss: 0.35. Test accuracy: 82.37%\n"
     ]
    }
   ],
   "source": [
    "print('\\nTest loss: {0:.2f}. Test accuracy: {1:.2f}%'.format(test_loss, test_accuracy*100.))"
   ]
  },
  {
   "cell_type": "markdown",
   "metadata": {},
   "source": [
    "> The final accuracy is very close to the validation accuracy, since I did not fiddle too much with hyperparameters. Using the initial model and hyperparameters given in this notebook, the final test accuracy should be roughly around 80%. Again, note that each time the code is rerun, a different accuracy will be obtained because each training is different. \n"
   ]
  },
  {
   "cell_type": "markdown",
   "metadata": {},
   "source": [
    "### Obtain the probability for a customer to convert\n",
    "> After testing I predict the probability of each class using the 'predict' method."
   ]
  },
  {
   "cell_type": "code",
   "execution_count": 26,
   "metadata": {
    "scrolled": false
   },
   "outputs": [
    {
     "data": {
      "text/plain": [
       "array([0.84, 0.33, 0.  , 0.  , 0.51, 1.  , 1.  , 0.  , 0.  , 0.41, 0.52,\n",
       "       0.41, 0.61, 0.69, 0.51, 0.  , 1.  , 0.68, 0.5 , 0.51, 0.73, 0.49,\n",
       "       0.84, 0.14, 0.  , 0.72, 0.48, 1.  , 0.68, 0.  , 0.02, 0.35, 0.  ,\n",
       "       0.99, 0.38, 0.84, 0.  , 0.  , 0.02, 0.51, 0.  , 0.  , 0.83, 1.  ,\n",
       "       0.  , 0.06, 0.  , 0.61, 0.39, 0.06, 0.25, 0.61, 0.48, 0.  , 0.33,\n",
       "       1.  , 0.  , 0.  , 0.  , 0.86, 0.65, 0.  , 0.71, 0.  , 0.  , 0.33,\n",
       "       0.27, 0.93, 0.74, 0.  , 0.61, 0.96, 0.38, 1.  , 0.33, 0.83, 0.43,\n",
       "       0.  , 1.  , 0.51, 0.78, 0.  , 0.64, 0.96, 1.  , 0.54, 0.1 , 0.62,\n",
       "       0.69, 0.43, 0.94, 0.25, 0.41, 0.96, 1.  , 1.  , 0.98, 0.  , 0.94,\n",
       "       0.44, 0.82, 0.27, 1.  , 0.13, 0.42, 0.79, 0.9 , 0.43, 0.33, 1.  ,\n",
       "       0.62, 0.33, 0.34, 0.  , 0.51, 0.  , 0.  , 0.69, 0.81, 0.  , 0.62,\n",
       "       1.  , 0.6 , 0.37, 0.83, 0.73, 0.01, 1.  , 0.67, 0.  , 0.69, 0.59,\n",
       "       0.97, 0.  , 0.61, 0.32, 1.  , 0.62, 0.  , 0.53, 1.  , 0.62, 0.51,\n",
       "       1.  , 0.33, 0.42, 0.36, 1.  , 0.8 , 0.  , 0.  , 0.98, 0.33, 0.79,\n",
       "       0.53, 0.58, 0.03, 0.68, 0.33, 1.  , 1.  , 0.84, 0.48, 0.  , 0.73,\n",
       "       1.  , 0.64, 0.53, 0.33, 1.  , 0.53, 0.81, 0.02, 0.11, 1.  , 0.68,\n",
       "       0.83, 0.  , 0.  , 0.6 , 0.  , 1.  , 0.83, 0.61, 0.  , 0.69, 0.64,\n",
       "       0.01, 0.  , 1.  , 0.86, 0.33, 0.29, 0.99, 0.58, 0.44, 1.  , 0.64,\n",
       "       0.  , 1.  , 0.  , 0.04, 0.33, 0.94, 1.  , 0.93, 0.  , 0.58, 0.  ,\n",
       "       1.  , 0.62, 0.01, 0.41, 1.  , 0.8 , 0.99, 0.95, 0.  , 0.77, 0.68,\n",
       "       0.55, 0.  , 0.23, 0.62, 0.35, 1.  , 0.  , 0.  , 0.01, 0.16, 0.  ,\n",
       "       0.62, 0.33, 0.97, 0.33, 0.  , 0.6 , 1.  , 0.  , 0.32, 0.62, 0.  ,\n",
       "       0.94, 0.41, 0.  , 0.33, 0.  , 0.33, 0.68, 1.  , 0.13, 0.  , 0.6 ,\n",
       "       0.33, 1.  , 0.41, 0.68, 0.54, 0.36, 0.  , 0.  , 0.58, 0.39, 1.  ,\n",
       "       0.  , 0.74, 0.62, 0.63, 0.01, 1.  , 0.06, 0.62, 0.99, 0.75, 0.03,\n",
       "       0.41, 0.4 , 0.5 , 0.  , 0.  , 0.01, 0.  , 0.  , 0.39, 0.42, 0.33,\n",
       "       0.  , 0.99, 0.58, 1.  , 0.31, 0.  , 0.03, 1.  , 0.68, 0.26, 0.37,\n",
       "       1.  , 0.45, 1.  , 0.01, 0.51, 0.27, 0.99, 0.33, 0.59, 0.62, 1.  ,\n",
       "       0.47, 0.  , 0.1 , 0.58, 0.  , 0.  , 0.1 , 0.77, 0.07, 1.  , 0.48,\n",
       "       0.58, 0.01, 0.48, 0.65, 0.  , 0.26, 0.01, 0.6 , 0.46, 0.79, 0.53,\n",
       "       0.  , 0.  , 0.74, 0.96, 0.99, 0.69, 0.  , 0.26, 0.33, 0.06, 0.  ,\n",
       "       0.  , 0.53, 0.  , 1.  , 0.09, 0.37, 0.33, 0.71, 0.98, 0.84, 0.8 ,\n",
       "       0.92, 1.  , 1.  , 0.  , 0.44, 0.6 , 0.  , 0.  , 0.33, 1.  , 0.  ,\n",
       "       0.  , 1.  , 1.  , 0.28, 0.8 , 0.54, 1.  , 1.  , 0.  , 1.  , 0.  ,\n",
       "       0.  , 0.65, 0.47, 0.  , 0.  , 0.61, 0.42, 0.81, 0.  , 0.89, 0.75,\n",
       "       0.69, 1.  , 0.23, 0.  , 0.  , 0.4 , 0.  , 0.  , 0.  , 0.62, 0.81,\n",
       "       0.69, 0.39, 0.99, 1.  , 0.41, 0.  , 0.57, 0.79, 0.58, 0.  , 0.76,\n",
       "       0.41, 0.62, 0.  , 0.6 , 1.  , 1.  , 1.  , 0.22, 0.61, 1.  , 0.62,\n",
       "       0.65, 0.  , 0.58, 1.  , 0.  , 1.  , 0.16, 0.01, 0.33, 0.7 , 0.74,\n",
       "       0.  , 0.29, 0.64, 0.38, 0.  , 0.7 , 0.99, 0.  , 0.9 , 1.  , 0.62,\n",
       "       0.  , 1.  , 0.57, 1.  , 0.68, 0.53, 0.73, 0.48], dtype=float32)"
      ]
     },
     "execution_count": 26,
     "metadata": {},
     "output_type": "execute_result"
    }
   ],
   "source": [
    "# Predict the probability of each class\n",
    "# model_audiobook.predict(test_inputs).round(2)\n",
    "\n",
    "# Alternatively, I can only display the second column only, indicating the probability of being converted.\n",
    "model_audiobook.predict(test_inputs)[:,1].round(2)"
   ]
  },
  {
   "cell_type": "code",
   "execution_count": 27,
   "metadata": {},
   "outputs": [
    {
     "data": {
      "text/plain": [
       "array([1, 0, 0, 0, 1, 1, 1, 0, 0, 0, 1, 0, 1, 1, 1, 0, 1, 1, 0, 1, 1, 0,\n",
       "       1, 0, 0, 1, 0, 1, 1, 0, 0, 0, 0, 1, 0, 1, 0, 0, 0, 1, 0, 0, 1, 1,\n",
       "       0, 0, 0, 1, 0, 0, 0, 1, 0, 0, 0, 1, 0, 0, 0, 1, 1, 0, 1, 0, 0, 0,\n",
       "       0, 1, 1, 0, 1, 1, 0, 1, 0, 1, 0, 0, 1, 1, 1, 0, 1, 1, 1, 1, 0, 1,\n",
       "       1, 0, 1, 0, 0, 1, 1, 1, 1, 0, 1, 0, 1, 0, 1, 0, 0, 1, 1, 0, 0, 1,\n",
       "       1, 0, 0, 0, 1, 0, 0, 1, 1, 0, 1, 1, 1, 0, 1, 1, 0, 1, 1, 0, 1, 1,\n",
       "       1, 0, 1, 0, 1, 1, 0, 1, 1, 1, 1, 1, 0, 0, 0, 1, 1, 0, 0, 1, 0, 1,\n",
       "       1, 1, 0, 1, 0, 1, 1, 1, 0, 0, 1, 1, 1, 1, 0, 1, 1, 1, 0, 0, 1, 1,\n",
       "       1, 0, 0, 1, 0, 1, 1, 1, 0, 1, 1, 0, 0, 1, 1, 0, 0, 1, 1, 0, 1, 1,\n",
       "       0, 1, 0, 0, 0, 1, 1, 1, 0, 1, 0, 1, 1, 0, 0, 1, 1, 1, 1, 0, 1, 1,\n",
       "       1, 0, 0, 1, 0, 1, 0, 0, 0, 0, 0, 1, 0, 1, 0, 0, 1, 1, 0, 0, 1, 0,\n",
       "       1, 0, 0, 0, 0, 0, 1, 1, 0, 0, 1, 0, 1, 0, 1, 1, 0, 0, 0, 1, 0, 1,\n",
       "       0, 1, 1, 1, 0, 1, 0, 1, 1, 1, 0, 0, 0, 0, 0, 0, 0, 0, 0, 0, 0, 0,\n",
       "       0, 1, 1, 1, 0, 0, 0, 1, 1, 0, 0, 1, 0, 1, 0, 1, 0, 1, 0, 1, 1, 1,\n",
       "       0, 0, 0, 1, 0, 0, 0, 1, 0, 1, 0, 1, 0, 0, 1, 0, 0, 0, 1, 0, 1, 1,\n",
       "       0, 0, 1, 1, 1, 1, 0, 0, 0, 0, 0, 0, 1, 0, 1, 0, 0, 0, 1, 1, 1, 1,\n",
       "       1, 1, 1, 0, 0, 1, 0, 0, 0, 1, 0, 0, 1, 1, 0, 1, 1, 1, 1, 0, 1, 0,\n",
       "       0, 1, 0, 0, 0, 1, 0, 1, 0, 1, 1, 1, 1, 0, 0, 0, 0, 0, 0, 0, 1, 1,\n",
       "       1, 0, 1, 1, 0, 0, 1, 1, 1, 0, 1, 0, 1, 0, 1, 1, 1, 1, 0, 1, 1, 1,\n",
       "       1, 0, 1, 1, 0, 1, 0, 0, 0, 1, 1, 0, 0, 1, 0, 0, 1, 1, 0, 1, 1, 1,\n",
       "       0, 1, 1, 1, 1, 1, 1, 0], dtype=int64)"
      ]
     },
     "execution_count": 27,
     "metadata": {},
     "output_type": "execute_result"
    }
   ],
   "source": [
    "# The class each data point belong to\n",
    "np.argmax(model_audiobook.predict(test_inputs),axis=1)\n",
    "\n",
    "# Alternatively,\n",
    "#model_audiobook.predict(test_inputs)[:,1].round(0)"
   ]
  },
  {
   "cell_type": "markdown",
   "metadata": {},
   "source": [
    "> 'argmax' indicates the position of the highest argument row-wise or column-wise. in this case, I'm interested in which column has the higher argument (probability), so I set axis=1 (for columns). The output would be the column ID with the highest argument for each observation (row). <br>\n",
    "> For instance, the output of an observation was [0.93,0.07] , np.argmax([0.93,0.07], axis=1) would find that 0.93 is the higher argument (higher probability) and return 0. This method is great for multi-class problems as it is independent of the number of classes"
   ]
  },
  {
   "cell_type": "markdown",
   "metadata": {},
   "source": [
    "### Save the model"
   ]
  },
  {
   "cell_type": "code",
   "execution_count": 28,
   "metadata": {},
   "outputs": [],
   "source": [
    "model_audiobook.save('model_audiobook.h5') "
   ]
  },
  {
   "cell_type": "markdown",
   "metadata": {},
   "source": [
    "> Finally, I saved the model using the built-in method TensorFlow method. I chose the HDF format since it is optimal for large numerical objects. "
   ]
  }
 ],
 "metadata": {
  "kernelspec": {
   "display_name": "Python [conda env:py3-TF2.0]",
   "language": "python",
   "name": "conda-env-py3-TF2.0-py"
  },
  "language_info": {
   "codemirror_mode": {
    "name": "ipython",
    "version": 3
   },
   "file_extension": ".py",
   "mimetype": "text/x-python",
   "name": "python",
   "nbconvert_exporter": "python",
   "pygments_lexer": "ipython3",
   "version": "3.8.5"
  }
 },
 "nbformat": 4,
 "nbformat_minor": 2
}
